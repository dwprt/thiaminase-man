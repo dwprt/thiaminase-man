{
 "cells": [
  {
   "cell_type": "markdown",
   "metadata": {},
   "source": [
    "# Limit of Detection\n",
    "\n",
    "Drew Porter\n",
    "\n",
    "## Introduction\n",
    "\n",
    "The purpose of this notebook is to determine a method limit of detection using Lake Trout tissue (NIST SRM 1946) for our method of directly quantifying thiaminase activity in fish tissue extracts using a plate reader.\n",
    "\n",
    "Load libraries:"
   ],
   "id": "2db0f21b-333f-48a8-b833-bc7eae180f5f"
  },
  {
   "cell_type": "code",
   "execution_count": null,
   "metadata": {},
   "outputs": [
    {
     "output_type": "stream",
     "name": "stderr",
     "text": [
      "here() starts at /home/runner/work/thiaminase-man/thiaminase-man"
     ]
    },
    {
     "output_type": "stream",
     "name": "stderr",
     "text": [
      "── Attaching core tidyverse packages ──────────────────────── tidyverse 2.0.0 ──\n",
      "✔ dplyr     1.1.4     ✔ readr     2.1.5\n",
      "✔ forcats   1.0.0     ✔ stringr   1.5.1\n",
      "✔ ggplot2   3.5.1     ✔ tibble    3.2.1\n",
      "✔ lubridate 1.9.4     ✔ tidyr     1.3.1\n",
      "✔ purrr     1.0.4     "
     ]
    },
    {
     "output_type": "stream",
     "name": "stderr",
     "text": [
      "── Conflicts ────────────────────────────────────────── tidyverse_conflicts() ──\n",
      "✖ dplyr::filter() masks stats::filter()\n",
      "✖ dplyr::lag()    masks stats::lag()\n",
      "ℹ Use the conflicted package (<http://conflicted.r-lib.org/>) to force all conflicts to become errors"
     ]
    }
   ],
   "source": [
    "#| label: setup\n",
    "\n",
    "library(here)"
   ],
   "id": "2f5d3bda-9123-4a3b-9e2f-d6348f6d4626"
  },
  {
   "cell_type": "markdown",
   "metadata": {},
   "source": [
    "## Background\n",
    "\n",
    "### Why Lake Trout?\n",
    "\n",
    "We expect Lake Trout to naturally lack thiaminase, this allows us to assess the amount of noise or error inherent in our assay in the absence of thiaminase. Any degradation of thiamine observed during the assay should be attributable to methodological or instrument-related error. This is critical for ensuring that when we do detect thiaminase activity in other samples, the measurement is genuine.\n",
    "\n",
    "### Sample Handling and Analysis Runs\n",
    "\n",
    "-   All Lake Trout extracts were prepared from the same frozen NIST homogenate on **January 24, 2025**.\n",
    "-   The assay was conducted over three separate days to account for inter-day variability:\n",
    "    -   **February 7, 2025:** 6 samples (NIST A–F)\n",
    "    -   **February 10, 2025:** 6 samples (NIST G–L)\n",
    "    -   **February 11, 2025:** 4 samples (NIST M–P; remaining extract)\n",
    "-   Note that one run each on **February 6** and **February 11, 2025** was discarded due to errors in the calibration standards.\n",
    "\n",
    "## Data Analysis\n",
    "\n",
    "### Analysis Method\n",
    "\n",
    "For each run, the absolute difference in thiamine concentration between the paired time points was calculated for each sample. The standard deviation (SD) of these differences was then computed. To establish a conservative threshold for the assay’s noise, we multiplied the SD by 3. This value represents the margin of variation that can be attributed to method error in the absence of thiaminase.\n",
    "\n",
    "Read in the cleaned limit of detection data:"
   ],
   "id": "d4b5bf53-c540-488f-8cd7-f8f21dc6f432"
  },
  {
   "cell_type": "code",
   "execution_count": null,
   "metadata": {},
   "outputs": [],
   "source": [
    "#| label: read-lod-data\n",
    "\n",
    "lod_data <- read_csv(\n",
    "  here(\n",
    "    \"data\", \"processed\", \"lod\", \"clean_lod_data.csv\"\n",
    "    ),\n",
    "  col_types = \"cDddddddd\"\n",
    "  )\n",
    "\n",
    "lod_data_long <- read_csv(\n",
    "  here(\n",
    "    \"data\", \"processed\", \"lod\", \"clean_lod_data_long.csv\"\n",
    "    ), \n",
    "  col_types = \"cfDddd\") |> \n",
    "  mutate(time_point = factor(time_point, labels = c(\"0\", \"30\")))"
   ],
   "id": "840c44c4-acdf-4e71-af99-f89deb3762f7"
  },
  {
   "cell_type": "markdown",
   "metadata": {},
   "source": [
    "Calculate the standard deviation of the absolute differences and multiply it by three to establish a conservative threshold:"
   ],
   "id": "58e1e11d-07a2-4557-a8be-d424d6e5c8c2"
  },
  {
   "cell_type": "code",
   "execution_count": null,
   "metadata": {},
   "outputs": [
    {
     "output_type": "stream",
     "name": "stdout",
     "text": [
      "[1] 0.495264"
     ]
    }
   ],
   "source": [
    "#| label: calc-sd\n",
    "\n",
    "nist_lod_sd_times3 <- sd(lod_data$abs_thiamine_difference) * 3\n",
    "print(nist_lod_sd_times3)"
   ],
   "id": "e06af977-0f38-49e4-b83e-e0a5fc7227a8"
  },
  {
   "cell_type": "markdown",
   "metadata": {},
   "source": [
    "Defining fish extract concentration ratios:"
   ],
   "id": "ef1a37fb-261d-4a3f-be3a-477f9efb0cc4"
  },
  {
   "cell_type": "code",
   "execution_count": null,
   "metadata": {},
   "outputs": [],
   "source": [
    "#| label: fish-extract-ratios\n",
    "\n",
    "fish_g <- 1\n",
    "buffer_mL <- 2.5\n",
    "fish_g_per_buffer_mL = fish_g / buffer_mL\n",
    "extract_vol_in_sample_mL <- 25 / 1000\n",
    "fish_g_per_sample <- fish_g_per_buffer_mL * extract_vol_in_sample_mL"
   ],
   "id": "148b2a09-968b-484b-a013-aa6d56bd17ba"
  },
  {
   "cell_type": "markdown",
   "metadata": {},
   "source": [
    "To make our fish extract we always mix 1 g of homogenized fish tissue with 2.5 mL phosphate buffer. So, we know there is 0.4 g of fish tissue per mL of buffer in the extract. We use 25 $\\mu$L of fish extract in our analyses, so we know there is 0.01 g of fish tissue in each analysis sample.\n",
    "\n",
    "To convert the calculated absolute difference standard deviation$\\times 3$ to a thiaminase activity rate we simply divide the value by the grams of fish in each sample, and by the minutes of time the assay ran for to get thiaminase activity in nmol of thiamine degraded per gram of fish tissue per minute:"
   ],
   "id": "b7dffce7-f173-4c97-b354-df8ce3d3c60b"
  },
  {
   "cell_type": "code",
   "execution_count": null,
   "metadata": {},
   "outputs": [
    {
     "output_type": "stream",
     "name": "stdout",
     "text": [
      "[1] 4.95264"
     ]
    },
    {
     "output_type": "stream",
     "name": "stdout",
     "text": [
      "[1] 1.65088"
     ]
    }
   ],
   "source": [
    "#| label: calculate-rates\n",
    "\n",
    "ten_minute_rate_lod <- nist_lod_sd_times3 / fish_g_per_sample / 10\n",
    "print(ten_minute_rate_lod)"
   ],
   "id": "93d93a62-9949-4a15-9e01-1f1917bc62e9"
  },
  {
   "cell_type": "markdown",
   "metadata": {},
   "source": [
    "Saving the LOD values for the manuscript:"
   ],
   "id": "4e0e011f-93dc-4978-895c-71affb309375"
  },
  {
   "cell_type": "code",
   "execution_count": null,
   "metadata": {},
   "outputs": [],
   "source": [
    "#| label: save-lod-values\n",
    "\n",
    "write_rds(\n",
    "  ten_minute_rate_lod,\n",
    "  here(\"data\", \"processed\", \"lod\", \"ten_min_lod.rds\")\n",
    ")\n",
    "\n",
    "write_rds(\n",
    "  thirty_minute_rate_lod,\n",
    "  here(\"data\", \"processed\", \"lod\", \"thirty_min_lod.rds\")\n",
    ")"
   ],
   "id": "d04fc88e-87b2-4221-971d-518aeae41232"
  },
  {
   "cell_type": "markdown",
   "metadata": {},
   "source": [
    "### Data Visualization\n",
    "\n",
    "Here I plot all the NIST LOD data so we can visualize the difference between the readings at each time point:"
   ],
   "id": "dab35aff-b2c6-463c-8de1-9e7081b1c1d7"
  },
  {
   "cell_type": "code",
   "execution_count": null,
   "metadata": {},
   "outputs": [
    {
     "output_type": "display_data",
     "metadata": {},
     "data": {
      "image/png": "[encoded data removed]"
     }
    }
   ],
   "source": [
    "#| label: fig-lod-boxplot\n",
    "#| fig-cap: \"Thiamine concentrations in SRM 1946 before and after 30 min incubation show no significant change (paired *t*-test, *p* = 0.36). Different shapes represent measurements from separate analysis days.\"\n",
    "#| fig-alt: \"Method limit of detection box plot figure\"\n",
    "\n",
    "lod_plot <- lod_data_long |> \n",
    "  ggplot(aes(x = time_point, y = avg_thiamine)) +\n",
    "  geom_boxplot() +\n",
    "  geom_jitter(aes(shape = factor(analysis_date)),\n",
    "              width = jitter_width, height = jitter_height, size = point_size) +\n",
    "  #stat_compare_means(method = \"t.test\",\n",
    "                    # paired = TRUE,\n",
    "                    # label.x = 0.75,\n",
    "                     #label.y = 10.45,\n",
    "                   #  aes(label = paste0(\"Paired t-test, p = \",\n",
    "                                #    after_stat(p.format)))) +\n",
    "  scale_y_continuous(limits = c(0, 10.5), breaks = seq(0, 10, 2)) +\n",
    "  labs(x = \"Nominal Time (min)\",\n",
    "       y = \"[Thiamine nmol]\") +\n",
    "  guides(shape = \"none\") +\n",
    "  theme_classic() +\n",
    "  theme(text = element_text(size = text_size))\n",
    "\n",
    "lod_plot"
   ],
   "id": "cell-fig-lod-boxplot"
  },
  {
   "cell_type": "markdown",
   "metadata": {},
   "source": [
    "### Statistical Analysis\n",
    "\n",
    "The goal here is to perform a paired t-test to determine if the 30 min incubation period caused a change in thiamine concentration in the NIST samples. From the plot, I expect there to be no significant difference.\n",
    "\n",
    "First I need to make sure we are meeting the assumptions of a paired t-test:\n",
    "\n",
    "-   The data are continuous (yes)\n",
    "\n",
    "-   The data values are paired measurements (yes)\n",
    "\n",
    "-   The pairs are independent of each other (yes)\n",
    "\n",
    "-   The differences between paired observations are normally distributed (check below)\n",
    "\n",
    "    ``` r\n",
    "    #| label: normality-test\n",
    "\n",
    "    # Calculate the differences between paired observations\n",
    "    differences <- lod_data$avg_thiamine_t1 - lod_data$avg_thiamine_t0\n",
    "\n",
    "    # Perform a Shapiro-Wilk normality test on the differences\n",
    "    shapiro_test <- shapiro.test(differences)\n",
    "    print(shapiro_test)\n",
    "    ```\n",
    "\n",
    "\n",
    "            Shapiro-Wilk normality test\n",
    "\n",
    "        data:  differences\n",
    "        W = 0.97789, p-value = 0.9446\n",
    "\n",
    "The high p-value of 0.945 indicates that the differences are normally distributed and I can proceed with the paired t-test:"
   ],
   "id": "1bd92c2b-e306-4847-960d-bf859f2e2df4"
  },
  {
   "cell_type": "code",
   "execution_count": null,
   "metadata": {},
   "outputs": [
    {
     "output_type": "stream",
     "name": "stdout",
     "text": [
      "\n",
      "    Paired t-test\n",
      "\n",
      "data:  lod_data$avg_thiamine_t0 and lod_data$avg_thiamine_t1\n",
      "t = 0.95099, df = 15, p-value = 0.3567\n",
      "alternative hypothesis: true mean difference is not equal to 0\n",
      "95 percent confidence interval:\n",
      " -0.07957522  0.20778910\n",
      "sample estimates:\n",
      "mean difference \n",
      "     0.06410694 "
     ]
    }
   ],
   "source": [
    "#| label: paired-t-test\n",
    "\n",
    "t_test_result <- t.test(lod_data$avg_thiamine_t0, \n",
    "                        lod_data$avg_thiamine_t1,\n",
    "                        paired = TRUE)\n",
    "\n",
    "print(t_test_result)"
   ],
   "id": "5f0830b7-678a-4845-8745-9a13ca9a0916"
  },
  {
   "cell_type": "markdown",
   "metadata": {},
   "source": [
    "Since the p-value (0.357) is much higher than 0.05 and the confidence interval includes zero, we conclude that there is no statistically significant difference between the average thiamine measurements at time 0 and time 1.\n",
    "\n",
    "Saving t-test p-value for reference in manuscript:"
   ],
   "id": "381e5aef-70ae-499f-8d7d-2b55c74ef12f"
  },
  {
   "cell_type": "code",
   "execution_count": null,
   "metadata": {},
   "outputs": [],
   "source": [
    "lod_paired_p_val <- t_test_result$p.value\n",
    "\n",
    "write_rds(\n",
    "  lod_paired_p_val,\n",
    "  file = here(\"data\", \"processed\", \"lod\", \"lod_paired_p_val.rds\")\n",
    ")"
   ],
   "id": "ad386cd6-0f04-4ff1-ab0a-77d0f3531a8f"
  }
 ],
 "nbformat": 4,
 "nbformat_minor": 5,
 "metadata": {}
}
