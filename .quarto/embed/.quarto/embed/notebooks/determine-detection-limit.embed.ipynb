{
  "cells": [
    {
      "cell_type": "markdown",
      "metadata": {},
      "source": [
        "# Limit of Detection\n",
        "\n",
        "Drew Porter\n",
        "\n",
        "## Introduction\n",
        "\n",
        "The purpose of this notebook is to determine a method limit of detection\n",
        "using Lake Trout tissue (NIST SRM 1946) for our method of directly\n",
        "quantifying thiaminase activity in fish tissue extracts using a plate\n",
        "reader.\n",
        "\n",
        "Load libraries:"
      ],
      "id": "ec21573b-f40f-4f77-b33a-119e2a6f68a2"
    },
    {
      "cell_type": "code",
      "execution_count": null,
      "metadata": {},
      "outputs": [
        {
          "output_type": "stream",
          "name": "stderr",
          "text": [
            "here() starts at C:/Users/Drew.Porter/Working/r-projects/thiaminase_manuscript"
          ]
        },
        {
          "output_type": "stream",
          "name": "stderr",
          "text": [
            "── Attaching core tidyverse packages ──────────────────────── tidyverse 2.0.0 ──\n",
            "✔ dplyr     1.1.4     ✔ readr     2.1.5\n",
            "✔ forcats   1.0.0     ✔ stringr   1.5.1\n",
            "✔ ggplot2   3.5.1     ✔ tibble    3.2.1\n",
            "✔ lubridate 1.9.4     ✔ tidyr     1.3.1\n",
            "✔ purrr     1.0.2     "
          ]
        },
        {
          "output_type": "stream",
          "name": "stderr",
          "text": [
            "── Conflicts ────────────────────────────────────────── tidyverse_conflicts() ──\n",
            "✖ dplyr::filter() masks stats::filter()\n",
            "✖ dplyr::lag()    masks stats::lag()\n",
            "ℹ Use the conflicted package (<http://conflicted.r-lib.org/>) to force all conflicts to become errors"
          ]
        }
      ],
      "source": [
        "#| label: setup\n",
        "\n",
        "library(here)"
      ],
      "id": "39f40eff-0da6-4ff3-b06a-89d558afc039"
    },
    {
      "cell_type": "markdown",
      "metadata": {},
      "source": [
        "## Background\n",
        "\n",
        "### Why Lake Trout?\n",
        "\n",
        "We expect Lake Trout to naturally lack thiaminase, this allows us to\n",
        "assess the amount of noise or error inherent in our assay in the absence\n",
        "of thiaminase. Any degradation of thiamine observed during the assay\n",
        "should be attributable to methodological or instrument-related error.\n",
        "This is critical for ensuring that when we do detect thiaminase activity\n",
        "in other samples, the measurement is genuine.\n",
        "\n",
        "### Sample Handling and Analysis Runs\n",
        "\n",
        "-   All Lake Trout extracts were prepared from the same frozen NIST\n",
        "    homogenate on **January 24, 2025**.\n",
        "-   The assay was conducted over three separate days to account for\n",
        "    inter-day variability:\n",
        "    -   **February 7, 2025:** 6 samples (NIST A–F)\n",
        "    -   **February 10, 2025:** 6 samples (NIST G–L)\n",
        "    -   **February 11, 2025:** 4 samples (NIST M–P; remaining extract)\n",
        "-   Note that one run each on **February 6** and **February 11, 2025**\n",
        "    was discarded due to errors in the calibration standards.\n",
        "\n",
        "## Data Analysis\n",
        "\n",
        "### Analysis Method\n",
        "\n",
        "For each run, the absolute difference in thiamine concentration between\n",
        "the paired time points was calculated for each sample. The standard\n",
        "deviation (SD) of these differences was then computed. To establish a\n",
        "conservative threshold for the assay’s noise, we multiplied the SD by 3.\n",
        "This value represents the margin of variation that can be attributed to\n",
        "method error in the absence of thiaminase.\n",
        "\n",
        "Read in the cleaned limit of detection data:"
      ],
      "id": "d2ba5dd4-127b-486c-9b9c-3f7b3ffce166"
    },
    {
      "cell_type": "code",
      "execution_count": null,
      "metadata": {},
      "outputs": [],
      "source": [
        "#| label: read-lod-data\n",
        "\n",
        "lod_data <- read_csv(\n",
        "  here(\n",
        "    \"data\", \"processed\", \"lod\", \"clean_lod_data.csv\"\n",
        "    ),\n",
        "  col_types = \"cDddddddd\"\n",
        "  )\n",
        "\n",
        "lod_data_long <- read_csv(\n",
        "  here(\n",
        "    \"data\", \"processed\", \"lod\", \"clean_lod_data_long.csv\"\n",
        "    ), \n",
        "  col_types = \"cfDddd\") |> \n",
        "  mutate(time_point = factor(time_point, labels = c(\"0\", \"30\")))"
      ],
      "id": "f8e31f25-dd8b-485c-a73a-6b7ea6b66b2c"
    },
    {
      "cell_type": "markdown",
      "metadata": {},
      "source": [
        "Calculate the standard deviation of the absolute differences and\n",
        "multiply it by three to establish a conservative threshold:"
      ],
      "id": "ad8bbe6c-affe-4064-9258-4a6ce632a6d4"
    },
    {
      "cell_type": "code",
      "execution_count": null,
      "metadata": {},
      "outputs": [
        {
          "output_type": "stream",
          "name": "stdout",
          "text": [
            "[1] 0.495264"
          ]
        }
      ],
      "source": [
        "#| label: calc-sd\n",
        "\n",
        "nist_lod_sd_times3 <- sd(lod_data$abs_thiamine_difference) * 3\n",
        "print(nist_lod_sd_times3)"
      ],
      "id": "d2e80e83-0a27-4291-b469-21fd99a2d564"
    },
    {
      "cell_type": "markdown",
      "metadata": {},
      "source": [
        "Defining fish extract concentration ratios:"
      ],
      "id": "476d8932-d1be-43b4-8d6d-cb896b750a60"
    },
    {
      "cell_type": "code",
      "execution_count": null,
      "metadata": {},
      "outputs": [],
      "source": [
        "#| label: fish-extract-ratios\n",
        "\n",
        "fish_g <- 1\n",
        "buffer_mL <- 2.5\n",
        "fish_g_per_buffer_mL = fish_g / buffer_mL\n",
        "extract_vol_in_sample_mL <- 25 / 1000\n",
        "fish_g_per_sample <- fish_g_per_buffer_mL * extract_vol_in_sample_mL"
      ],
      "id": "a4a12365-8e58-4c27-933b-36a8b03ffd9d"
    },
    {
      "cell_type": "markdown",
      "metadata": {},
      "source": [
        "To make our fish extract we always mix 1 g of homogenized fish tissue\n",
        "with 2.5 mL phosphate buffer. So, we know there is 0.4 g of fish tissue\n",
        "per mL of buffer in the extract. We use 25 $\\mu$L of fish extract in our\n",
        "analyses, so we know there is 0.01 g of fish tissue in each analysis\n",
        "sample.\n",
        "\n",
        "To convert the calculated absolute difference standard\n",
        "deviation$\\times 3$ to a thiaminase activity rate we simply divide the\n",
        "value by the grams of fish in each sample, and by the minutes of time\n",
        "the assay ran for to get thiaminase activity in nmol of thiamine\n",
        "degraded per gram of fish tissue per minute:"
      ],
      "id": "2a45f626-27e0-4ce2-b102-0aad5347cca0"
    },
    {
      "cell_type": "code",
      "execution_count": null,
      "metadata": {},
      "outputs": [
        {
          "output_type": "stream",
          "name": "stdout",
          "text": [
            "[1] 4.95264"
          ]
        },
        {
          "output_type": "stream",
          "name": "stdout",
          "text": [
            "[1] 1.65088"
          ]
        }
      ],
      "source": [
        "#| label: calculate-rates\n",
        "\n",
        "ten_minute_rate_lod <- nist_lod_sd_times3 / fish_g_per_sample / 10\n",
        "print(ten_minute_rate_lod)"
      ],
      "id": "69eb569a-b9d1-4379-94dd-b5a7b53d17e0"
    },
    {
      "cell_type": "markdown",
      "metadata": {},
      "source": [
        "Saving the LOD values for the manuscript:"
      ],
      "id": "fa71e753-63aa-4bcb-828b-759f2b12204b"
    },
    {
      "cell_type": "code",
      "execution_count": null,
      "metadata": {},
      "outputs": [],
      "source": [
        "#| label: save-lod-values\n",
        "\n",
        "write_rds(\n",
        "  ten_minute_rate_lod,\n",
        "  here(\"data\", \"processed\", \"lod\", \"ten_min_lod.rds\")\n",
        ")\n",
        "\n",
        "write_rds(\n",
        "  thirty_minute_rate_lod,\n",
        "  here(\"data\", \"processed\", \"lod\", \"thirty_min_lod.rds\")\n",
        ")"
      ],
      "id": "6d7e074a-759f-48b6-bb5b-1908c42ac341"
    },
    {
      "cell_type": "markdown",
      "metadata": {},
      "source": [
        "### Data Visualization\n",
        "\n",
        "Here I plot all the NIST LOD data so we can visualize the difference\n",
        "between the readings at each time point:"
      ],
      "id": "cb492d17-327c-4c0a-b55e-17a08b916b44"
    },
    {
      "cell_type": "code",
      "execution_count": null,
      "metadata": {},
      "outputs": [
        {
          "output_type": "display_data",
          "metadata": {},
          "data": {
            "image/png": "[encoded data removed]"
          }
        }
      ],
      "source": [
        "#| label: fig-lod-boxplot\n",
        "#| fig-cap: \"Thiamine concentrations in SRM 1946 before and after 30 min incubation show no significant change (paired *t*-test, *p* = 0.36). Different shapes represent measurements from separate analysis days.\"\n",
        "#| fig-alt: \"Method limit of detection box plot figure\"\n",
        "\n",
        "lod_plot <- lod_data_long |> \n",
        "  ggplot(aes(x = time_point, y = avg_thiamine)) +\n",
        "  geom_boxplot() +\n",
        "  geom_jitter(aes(shape = factor(analysis_date)),\n",
        "              width = jitter_width, height = jitter_height, size = point_size) +\n",
        "  #stat_compare_means(method = \"t.test\",\n",
        "                    # paired = TRUE,\n",
        "                    # label.x = 0.75,\n",
        "                     #label.y = 10.45,\n",
        "                   #  aes(label = paste0(\"Paired t-test, p = \",\n",
        "                                #    after_stat(p.format)))) +\n",
        "  scale_y_continuous(limits = c(0, 10.5), breaks = seq(0, 10, 2)) +\n",
        "  labs(x = \"Nominal Time (min)\",\n",
        "       y = \"[Thiamine nmol]\") +\n",
        "  guides(shape = \"none\") +\n",
        "  theme_classic() +\n",
        "  theme(text = element_text(size = text_size))\n",
        "\n",
        "lod_plot"
      ],
      "id": "cell-fig-lod-boxplot"
    },
    {
      "cell_type": "markdown",
      "metadata": {},
      "source": [
        "### Statistical Analysis\n",
        "\n",
        "The goal here is to perform a paired t-test to determine if the 30 min\n",
        "incubation period caused a change in thiamine concentration in the NIST\n",
        "samples. From the plot, I expect there to be no significant difference.\n",
        "\n",
        "First I need to make sure we are meeting the assumptions of a paired\n",
        "t-test:\n",
        "\n",
        "-   The data are continuous (yes)\n",
        "\n",
        "-   The data values are paired measurements (yes)\n",
        "\n",
        "-   The pairs are independent of each other (yes)\n",
        "\n",
        "-   The differences between paired observations are normally distributed\n",
        "    (check below)\n",
        "\n",
        "    ``` r\n",
        "    #| label: normality-test\n",
        "\n",
        "    # Calculate the differences between paired observations\n",
        "    differences <- lod_data$avg_thiamine_t1 - lod_data$avg_thiamine_t0\n",
        "\n",
        "    # Perform a Shapiro-Wilk normality test on the differences\n",
        "    shapiro_test <- shapiro.test(differences)\n",
        "    print(shapiro_test)\n",
        "    ```\n",
        "\n",
        "\n",
        "            Shapiro-Wilk normality test\n",
        "\n",
        "        data:  differences\n",
        "        W = 0.97789, p-value = 0.9446\n",
        "\n",
        "The high p-value of 0.945 indicates that the differences are normally\n",
        "distributed and I can proceed with the paired t-test:"
      ],
      "id": "9589070d-c88a-4536-aaa8-39fe72102b8a"
    },
    {
      "cell_type": "code",
      "execution_count": null,
      "metadata": {},
      "outputs": [
        {
          "output_type": "stream",
          "name": "stdout",
          "text": [
            "\n",
            "    Paired t-test\n",
            "\n",
            "data:  lod_data$avg_thiamine_t0 and lod_data$avg_thiamine_t1\n",
            "t = 0.95099, df = 15, p-value = 0.3567\n",
            "alternative hypothesis: true mean difference is not equal to 0\n",
            "95 percent confidence interval:\n",
            " -0.07957522  0.20778910\n",
            "sample estimates:\n",
            "mean difference \n",
            "     0.06410694 "
          ]
        }
      ],
      "source": [
        "#| label: paired-t-test\n",
        "\n",
        "t_test_result <- t.test(lod_data$avg_thiamine_t0, \n",
        "                        lod_data$avg_thiamine_t1,\n",
        "                        paired = TRUE)\n",
        "\n",
        "print(t_test_result)"
      ],
      "id": "8ed01fb6-2864-4c3c-9e99-5aea1fd785a1"
    },
    {
      "cell_type": "markdown",
      "metadata": {},
      "source": [
        "Since the p-value (0.357) is much higher than 0.05 and the confidence\n",
        "interval includes zero, we conclude that there is no statistically\n",
        "significant difference between the average thiamine measurements at time\n",
        "0 and time 1.\n",
        "\n",
        "Saving t-test p-value for reference in manuscript:"
      ],
      "id": "53edbbcd-5ac1-499a-9bf7-4b45f8359313"
    },
    {
      "cell_type": "code",
      "execution_count": null,
      "metadata": {},
      "outputs": [],
      "source": [
        "lod_paired_p_val <- t_test_result$p.value\n",
        "\n",
        "write_rds(\n",
        "  lod_paired_p_val,\n",
        "  file = here(\"data\", \"processed\", \"lod\", \"lod_paired_p_val.rds\")\n",
        ")"
      ],
      "id": "c78d7be4-6e05-4ecc-a5d1-b66c491e9d8c"
    }
  ],
  "nbformat": 4,
  "nbformat_minor": 5,
  "metadata": {
    "kernelspec": {
      "display_name": "Python 3",
      "language": "python",
      "name": "python3"
    }
  }
}