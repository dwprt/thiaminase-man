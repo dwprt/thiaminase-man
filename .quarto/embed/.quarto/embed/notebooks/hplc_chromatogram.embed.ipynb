{
  "cells": [
    {
      "cell_type": "markdown",
      "metadata": {},
      "source": [
        "# hplc_chromatogram"
      ],
      "id": "b2a36527-f792-4b8f-8812-a578abd4f883"
    },
    {
      "cell_type": "code",
      "execution_count": null,
      "metadata": {},
      "outputs": [
        {
          "output_type": "stream",
          "name": "stderr",
          "text": [
            "here() starts at C:/Users/Drew.Porter/Working/r-projects/thiaminase_manuscript"
          ]
        },
        {
          "output_type": "stream",
          "name": "stderr",
          "text": [
            "── Attaching core tidyverse packages ──────────────────────── tidyverse 2.0.0 ──\n",
            "✔ dplyr     1.1.4     ✔ readr     2.1.5\n",
            "✔ forcats   1.0.0     ✔ stringr   1.5.1\n",
            "✔ ggplot2   3.5.1     ✔ tibble    3.2.1\n",
            "✔ lubridate 1.9.4     ✔ tidyr     1.3.1\n",
            "✔ purrr     1.0.2     "
          ]
        },
        {
          "output_type": "stream",
          "name": "stderr",
          "text": [
            "── Conflicts ────────────────────────────────────────── tidyverse_conflicts() ──\n",
            "✖ dplyr::filter() masks stats::filter()\n",
            "✖ dplyr::lag()    masks stats::lag()\n",
            "ℹ Use the conflicted package (<http://conflicted.r-lib.org/>) to force all conflicts to become errors"
          ]
        }
      ],
      "source": [
        "#| label: setup\n",
        "\n",
        "library(here)"
      ],
      "id": "3931908c-ac54-4d62-bd94-762fef787cce"
    },
    {
      "cell_type": "markdown",
      "metadata": {},
      "source": [
        "Read in chromatogram data:"
      ],
      "id": "7ba24a0c-1d8c-4a99-a7bc-cf595c62ec6a"
    },
    {
      "cell_type": "code",
      "execution_count": null,
      "metadata": {},
      "outputs": [],
      "source": [
        "#| label: load-data\n",
        "\n",
        "hplc <- read_csv(\n",
        "  file = here(\"data\", \"raw\", \"chromatogram\", \"hplc_thiamine_chromatogram.csv\"),\n",
        "  col_types = \"ddff\"\n",
        ") |> \n",
        "  mutate(\n",
        "    species = if_else(str_starts(group, \"NIST\"), \"NIST\", \"RASM\"),\n",
        "    species = factor(species)\n",
        "    )\n",
        "  \n",
        "\n",
        "nist <- hplc |> \n",
        "  filter(str_starts(group, \"NIST\"))\n",
        "\n",
        "rasm <- hplc |> \n",
        "  filter(str_starts(group, \"RASM\"))"
      ],
      "id": "838ee569-c453-4c34-99cb-b1652487b492"
    },
    {
      "cell_type": "markdown",
      "metadata": {},
      "source": [
        "NIST plot:"
      ],
      "id": "34012e0d-e253-4a32-b1cf-acce40132d97"
    },
    {
      "cell_type": "code",
      "execution_count": null,
      "metadata": {},
      "outputs": [
        {
          "output_type": "display_data",
          "metadata": {},
          "data": {
            "image/png": "[encoded data removed]"
          }
        }
      ],
      "source": [
        "#| label: fig-nist-chromatogram\n",
        "\n",
        "nist_fig <- ggplot(data = nist, aes(x = x, y = y, group = time, color = time)) +\n",
        "  geom_line(linewidth = 0.75) +\n",
        "  labs(x = \"Time (min)\",\n",
        "       y = \"Fluorescence Intensity\") +\n",
        "  scale_y_continuous(breaks = seq(0, 20, 2), limits = c(0, 20)) +\n",
        "  guides(color = \"none\") +\n",
        "  my_theme\n",
        "\n",
        "nist_fig"
      ],
      "id": "cell-fig-nist-chromatogram"
    },
    {
      "cell_type": "markdown",
      "metadata": {},
      "source": [
        "RASM plot:"
      ],
      "id": "32e1d747-7a7e-4d0d-beab-07fc731213a5"
    },
    {
      "cell_type": "code",
      "execution_count": null,
      "metadata": {},
      "outputs": [
        {
          "output_type": "display_data",
          "metadata": {},
          "data": {
            "image/png": "[encoded data removed]"
          }
        }
      ],
      "source": [
        "#| label: fig-rasm-chromatogram\n",
        "\n",
        "rasm_fig <- ggplot(data = rasm, aes(x = x, y = y, group = time, color = time)) +\n",
        "  geom_line(linewidth = 0.75) +\n",
        "  labs(x = \"Time (min)\",\n",
        "       y = \"Fluorescence Intensity\") +\n",
        "  scale_y_continuous(breaks = seq(0, 20, 2), limits = c(0, 20)) +\n",
        "  my_theme +\n",
        "  guides(color = \"none\") +\n",
        "  theme(axis.title.y = element_blank(),\n",
        "        axis.text.y = element_blank(),\n",
        "        axis.ticks.y = element_blank(),\n",
        "        axis.line.y = element_blank())\n",
        "\n",
        "rasm_fig"
      ],
      "id": "cell-fig-rasm-chromatogram"
    },
    {
      "cell_type": "markdown",
      "metadata": {},
      "source": [
        "Make them into a 2 panel plot:"
      ],
      "id": "65f5ba49-3dec-4347-9a25-b3d1c23953ea"
    },
    {
      "cell_type": "code",
      "execution_count": null,
      "metadata": {},
      "outputs": [
        {
          "output_type": "display_data",
          "metadata": {},
          "data": {
            "image/png": "[encoded data removed]"
          }
        }
      ],
      "source": [
        "#| label: fig-chromatogram-panel\n",
        "\n",
        "chromatogram_panel <- nist_fig + rasm_fig + plot_annotation(tag_levels = \"A\")\n",
        "\n",
        "chromatogram_panel"
      ],
      "id": "cell-fig-chromatogram-panel"
    },
    {
      "cell_type": "markdown",
      "metadata": {},
      "source": [
        "Save chromatogram panel:"
      ],
      "id": "c6fbb857-53bb-4fd2-9a42-667b9382a67c"
    },
    {
      "cell_type": "code",
      "execution_count": null,
      "metadata": {},
      "outputs": [],
      "source": [
        "#| label: save-chromatogram-panel\n",
        "\n",
        "ggsave(\n",
        "  filename = \"chromatogram_panel_plot.png\",\n",
        "  plot = chromatogram_panel,\n",
        "  path = here(\"output\", \"figs\"),\n",
        "  width = fig_width * 2,\n",
        "  height = fig_height,\n",
        "  units = \"in\",\n",
        "  dpi = dpi\n",
        ")"
      ],
      "id": "3fc3d21b-e6df-4b4a-9390-9ef092ef9f0f"
    }
  ],
  "nbformat": 4,
  "nbformat_minor": 5,
  "metadata": {
    "kernelspec": {
      "display_name": "Python 3",
      "language": "python",
      "name": "python3"
    }
  }
}