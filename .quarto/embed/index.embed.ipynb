{
 "cells": [
  {
   "cell_type": "markdown",
   "metadata": {},
   "source": [
    "# Direct Thiaminase Measurement Method\n",
    "\n",
    "Drew Porter [![](data:image/png;base64,iVBORw0KGgoAAAANSUhEUgAAABAAAAAQCAYAAAAf8/9hAAAAGXRFWHRTb2Z0d2FyZQBBZG9iZSBJbWFnZVJlYWR5ccllPAAAA2ZpVFh0WE1MOmNvbS5hZG9iZS54bXAAAAAAADw/eHBhY2tldCBiZWdpbj0i77u/IiBpZD0iVzVNME1wQ2VoaUh6cmVTek5UY3prYzlkIj8+IDx4OnhtcG1ldGEgeG1sbnM6eD0iYWRvYmU6bnM6bWV0YS8iIHg6eG1wdGs9IkFkb2JlIFhNUCBDb3JlIDUuMC1jMDYwIDYxLjEzNDc3NywgMjAxMC8wMi8xMi0xNzozMjowMCAgICAgICAgIj4gPHJkZjpSREYgeG1sbnM6cmRmPSJodHRwOi8vd3d3LnczLm9yZy8xOTk5LzAyLzIyLXJkZi1zeW50YXgtbnMjIj4gPHJkZjpEZXNjcmlwdGlvbiByZGY6YWJvdXQ9IiIgeG1sbnM6eG1wTU09Imh0dHA6Ly9ucy5hZG9iZS5jb20veGFwLzEuMC9tbS8iIHhtbG5zOnN0UmVmPSJodHRwOi8vbnMuYWRvYmUuY29tL3hhcC8xLjAvc1R5cGUvUmVzb3VyY2VSZWYjIiB4bWxuczp4bXA9Imh0dHA6Ly9ucy5hZG9iZS5jb20veGFwLzEuMC8iIHhtcE1NOk9yaWdpbmFsRG9jdW1lbnRJRD0ieG1wLmRpZDo1N0NEMjA4MDI1MjA2ODExOTk0QzkzNTEzRjZEQTg1NyIgeG1wTU06RG9jdW1lbnRJRD0ieG1wLmRpZDozM0NDOEJGNEZGNTcxMUUxODdBOEVCODg2RjdCQ0QwOSIgeG1wTU06SW5zdGFuY2VJRD0ieG1wLmlpZDozM0NDOEJGM0ZGNTcxMUUxODdBOEVCODg2RjdCQ0QwOSIgeG1wOkNyZWF0b3JUb29sPSJBZG9iZSBQaG90b3Nob3AgQ1M1IE1hY2ludG9zaCI+IDx4bXBNTTpEZXJpdmVkRnJvbSBzdFJlZjppbnN0YW5jZUlEPSJ4bXAuaWlkOkZDN0YxMTc0MDcyMDY4MTE5NUZFRDc5MUM2MUUwNEREIiBzdFJlZjpkb2N1bWVudElEPSJ4bXAuZGlkOjU3Q0QyMDgwMjUyMDY4MTE5OTRDOTM1MTNGNkRBODU3Ii8+IDwvcmRmOkRlc2NyaXB0aW9uPiA8L3JkZjpSREY+IDwveDp4bXBtZXRhPiA8P3hwYWNrZXQgZW5kPSJyIj8+84NovQAAAR1JREFUeNpiZEADy85ZJgCpeCB2QJM6AMQLo4yOL0AWZETSqACk1gOxAQN+cAGIA4EGPQBxmJA0nwdpjjQ8xqArmczw5tMHXAaALDgP1QMxAGqzAAPxQACqh4ER6uf5MBlkm0X4EGayMfMw/Pr7Bd2gRBZogMFBrv01hisv5jLsv9nLAPIOMnjy8RDDyYctyAbFM2EJbRQw+aAWw/LzVgx7b+cwCHKqMhjJFCBLOzAR6+lXX84xnHjYyqAo5IUizkRCwIENQQckGSDGY4TVgAPEaraQr2a4/24bSuoExcJCfAEJihXkWDj3ZAKy9EJGaEo8T0QSxkjSwORsCAuDQCD+QILmD1A9kECEZgxDaEZhICIzGcIyEyOl2RkgwAAhkmC+eAm0TAAAAABJRU5ErkJggg==)](https://orcid.org/0000-0002-6226-7080) (University of Alaska Fairbanks)  \n",
    "Cody Pinger [![](data:image/png;base64,iVBORw0KGgoAAAANSUhEUgAAABAAAAAQCAYAAAAf8/9hAAAAGXRFWHRTb2Z0d2FyZQBBZG9iZSBJbWFnZVJlYWR5ccllPAAAA2ZpVFh0WE1MOmNvbS5hZG9iZS54bXAAAAAAADw/eHBhY2tldCBiZWdpbj0i77u/IiBpZD0iVzVNME1wQ2VoaUh6cmVTek5UY3prYzlkIj8+IDx4OnhtcG1ldGEgeG1sbnM6eD0iYWRvYmU6bnM6bWV0YS8iIHg6eG1wdGs9IkFkb2JlIFhNUCBDb3JlIDUuMC1jMDYwIDYxLjEzNDc3NywgMjAxMC8wMi8xMi0xNzozMjowMCAgICAgICAgIj4gPHJkZjpSREYgeG1sbnM6cmRmPSJodHRwOi8vd3d3LnczLm9yZy8xOTk5LzAyLzIyLXJkZi1zeW50YXgtbnMjIj4gPHJkZjpEZXNjcmlwdGlvbiByZGY6YWJvdXQ9IiIgeG1sbnM6eG1wTU09Imh0dHA6Ly9ucy5hZG9iZS5jb20veGFwLzEuMC9tbS8iIHhtbG5zOnN0UmVmPSJodHRwOi8vbnMuYWRvYmUuY29tL3hhcC8xLjAvc1R5cGUvUmVzb3VyY2VSZWYjIiB4bWxuczp4bXA9Imh0dHA6Ly9ucy5hZG9iZS5jb20veGFwLzEuMC8iIHhtcE1NOk9yaWdpbmFsRG9jdW1lbnRJRD0ieG1wLmRpZDo1N0NEMjA4MDI1MjA2ODExOTk0QzkzNTEzRjZEQTg1NyIgeG1wTU06RG9jdW1lbnRJRD0ieG1wLmRpZDozM0NDOEJGNEZGNTcxMUUxODdBOEVCODg2RjdCQ0QwOSIgeG1wTU06SW5zdGFuY2VJRD0ieG1wLmlpZDozM0NDOEJGM0ZGNTcxMUUxODdBOEVCODg2RjdCQ0QwOSIgeG1wOkNyZWF0b3JUb29sPSJBZG9iZSBQaG90b3Nob3AgQ1M1IE1hY2ludG9zaCI+IDx4bXBNTTpEZXJpdmVkRnJvbSBzdFJlZjppbnN0YW5jZUlEPSJ4bXAuaWlkOkZDN0YxMTc0MDcyMDY4MTE5NUZFRDc5MUM2MUUwNEREIiBzdFJlZjpkb2N1bWVudElEPSJ4bXAuZGlkOjU3Q0QyMDgwMjUyMDY4MTE5OTRDOTM1MTNGNkRBODU3Ii8+IDwvcmRmOkRlc2NyaXB0aW9uPiA8L3JkZjpSREY+IDwveDp4bXBtZXRhPiA8P3hwYWNrZXQgZW5kPSJyIj8+84NovQAAAR1JREFUeNpiZEADy85ZJgCpeCB2QJM6AMQLo4yOL0AWZETSqACk1gOxAQN+cAGIA4EGPQBxmJA0nwdpjjQ8xqArmczw5tMHXAaALDgP1QMxAGqzAAPxQACqh4ER6uf5MBlkm0X4EGayMfMw/Pr7Bd2gRBZogMFBrv01hisv5jLsv9nLAPIOMnjy8RDDyYctyAbFM2EJbRQw+aAWw/LzVgx7b+cwCHKqMhjJFCBLOzAR6+lXX84xnHjYyqAo5IUizkRCwIENQQckGSDGY4TVgAPEaraQr2a4/24bSuoExcJCfAEJihXkWDj3ZAKy9EJGaEo8T0QSxkjSwORsCAuDQCD+QILmD1A9kECEZgxDaEZhICIzGcIyEyOl2RkgwAAhkmC+eAm0TAAAAABJRU5ErkJggg==)](https://orcid.org/0000-0003-0636-828X) (National Marine Fisheries Service)  \n",
    "March 12, 2025\n",
    "\n",
    "Lorem ipsum odor amet, consectetuer adipiscing elit. Mattis torquent convallis platea consequat dictumst. Cubilia vitae imperdiet netus nisi aliquam pharetra imperdiet. Ligula eros aliquam fames morbi sed, conubia parturient. Semper nascetur mollis, finibus in integer morbi. Orci a montes mauris inceptos urna."
   ],
   "id": "8524f6b2-14d9-4bcc-bdbc-6082fd13c8e3"
  },
  {
   "cell_type": "code",
   "execution_count": null,
   "metadata": {},
   "outputs": [
    {
     "output_type": "stream",
     "name": "stderr",
     "text": [
      "here() starts at C:/Users/Drew.Porter/Working/r-projects/thiaminase_manuscript"
     ]
    },
    {
     "output_type": "stream",
     "name": "stderr",
     "text": [
      "── Attaching core tidyverse packages ──────────────────────── tidyverse 2.0.0 ──\n",
      "✔ dplyr     1.1.4     ✔ readr     2.1.5\n",
      "✔ forcats   1.0.0     ✔ stringr   1.5.1\n",
      "✔ ggplot2   3.5.1     ✔ tibble    3.2.1\n",
      "✔ lubridate 1.9.4     ✔ tidyr     1.3.1\n",
      "✔ purrr     1.0.2     "
     ]
    },
    {
     "output_type": "stream",
     "name": "stderr",
     "text": [
      "── Conflicts ────────────────────────────────────────── tidyverse_conflicts() ──\n",
      "✖ dplyr::filter() masks stats::filter()\n",
      "✖ dplyr::lag()    masks stats::lag()\n",
      "ℹ Use the conflicted package (<http://conflicted.r-lib.org/>) to force all conflicts to become errors"
     ]
    }
   ],
   "source": [
    "library(here, quietly = TRUE)"
   ],
   "id": "a34d1cda-c995-43f1-8deb-347d7dc33f9d"
  },
  {
   "cell_type": "markdown",
   "metadata": {},
   "source": [
    "## Introduction"
   ],
   "id": "d9da3176-402a-4448-90b9-bb1119e5bc7d"
  },
  {
   "cell_type": "code",
   "execution_count": null,
   "metadata": {},
   "outputs": [],
   "source": [
    "ten_min_lod <- read_rds(here(\"data\", \"processed\", \"lod\", \"ten_min_lod.rds\"))\n",
    "thirty_min_lod <- read_rds(here(\"data\", \"processed\", \"lod\", \"thirty_min_lod.rds\"))\n",
    "lod_paired_p_val <- read_rds(here(\"data/processed/lod/lod_paired_p_val.rds\"))"
   ],
   "id": "03658478-2a5b-44b7-90dd-a69470e2f088"
  },
  {
   "cell_type": "markdown",
   "metadata": {},
   "source": [
    "The ten minute detection limit was 4.95 nmol g$^{-1}$ min$^{-1}$\n",
    "\n",
    "The thirty minute detection limit was 1.65\n",
    "\n",
    "## Methods\n",
    "\n",
    "``` python\n",
    "lod_plot <- lod_data_long |> \n",
    "  ggplot(aes(x = time_point, y = avg_thiamine)) +\n",
    "  geom_boxplot() +\n",
    "  geom_jitter(aes(shape = factor(analysis_date)),\n",
    "              width = jitter_width, height = jitter_height, size = point_size) +\n",
    "  #stat_compare_means(method = \"t.test\",\n",
    "                    # paired = TRUE,\n",
    "                    # label.x = 0.75,\n",
    "                     #label.y = 10.45,\n",
    "                   #  aes(label = paste0(\"Paired t-test, p = \",\n",
    "                                #    after_stat(p.format)))) +\n",
    "  scale_y_continuous(limits = c(0, 10.5), breaks = seq(0, 10, 2)) +\n",
    "  labs(x = \"Nominal Time (min)\",\n",
    "       y = \"[Thiamine nmol]\") +\n",
    "  guides(shape = \"none\") +\n",
    "  theme_classic() +\n",
    "  theme(text = element_text(size = text_size))\n",
    "\n",
    "lod_plot\n",
    "```\n",
    "\n",
    "![](attachment:index_files/figure-ipynb/notebooks-determine-detection-limit-fig-lod-boxplot-output-1.png)\n",
    "\n",
    "as you can see in @fig-lod-boxplot\n",
    "\n",
    "``` python\n",
    "chromatogram_panel <- nist_fig + rasm_fig + plot_annotation(tag_levels = \"A\")\n",
    "\n",
    "chromatogram_panel\n",
    "```\n",
    "\n",
    "![](attachment:index_files/figure-ipynb/notebooks-hplc_chromatogram-fig-chromatogram-panel-output-1.png)\n",
    "\n",
    "$$\n",
    "-1 \\times \\frac{\\text{nmol Thiamine}_{\\text{Final}} - \\text{nmol Thiamine}_{\\text{Initial}}}{(\\text{Time}_{\\text{Final}} - \\text{Time}_{\\text{Initial}}) \\times 0.01 \\text{ g Fish}}\\\n",
    "$$ {#eq-direct-thiaminase}\n",
    "\n",
    "$$\n",
    "v = \\frac{V_{max} [S]}{K_m + [S]}\n",
    "$$ {#eq-michaelis-menten}\n",
    "\n",
    "$$\n",
    "v = \\frac{V_{max} [S]^n}{K^n + [S]^n}\n",
    "$$ {#eq-hills}\n",
    "\n",
    "@eq-direct-thiaminase\n",
    "\n",
    "@hanes_assay_2007\n",
    "\n",
    "@kraft_rapid_2014\n",
    "\n",
    "## Results and Discussion\n",
    "\n",
    "## Conclusion\n",
    "\n",
    "## References"
   ],
   "attachments": {
    "index_files/figure-ipynb/notebooks-determine-detection-limit-fig-lod-boxplot-output-1.png": {
     "image/png": "[encoded data removed]"
    },
    "index_files/figure-ipynb/notebooks-hplc_chromatogram-fig-chromatogram-panel-output-1.png": {
     "image/png": "[encoded data removed]"
    }
   },
   "id": "bc224148-35a0-419e-b955-37e599f36c8d"
  }
 ],
 "nbformat": 4,
 "nbformat_minor": 5,
 "metadata": {}
}
