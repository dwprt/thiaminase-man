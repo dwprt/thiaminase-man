{
 "cells": [
  {
   "cell_type": "markdown",
   "metadata": {},
   "source": [
    "# Limit of Detection\n",
    "\n",
    "Drew Porter\n",
    "\n",
    "## Introduction\n",
    "\n",
    "The purpose of this notebook is to determine a method limit of detection using Lake Trout tissure (NIST SRM 1946) for our method of directly quantifying thiaminase activity in fish tissue extracts using a plate reader.\n",
    "\n",
    "Load libraries:"
   ],
   "id": "039fc402-3c26-447b-a6f8-c2518d4916a5"
  },
  {
   "cell_type": "code",
   "execution_count": null,
   "metadata": {},
   "outputs": [
    {
     "output_type": "stream",
     "name": "stderr",
     "text": [
      "here() starts at C:/Users/Drew.Porter/Working/r-projects/thiaminase_manuscript"
     ]
    },
    {
     "output_type": "stream",
     "name": "stderr",
     "text": [
      "── Attaching core tidyverse packages ──────────────────────── tidyverse 2.0.0 ──\n",
      "✔ dplyr     1.1.4     ✔ readr     2.1.5\n",
      "✔ forcats   1.0.0     ✔ stringr   1.5.1\n",
      "✔ ggplot2   3.5.1     ✔ tibble    3.2.1\n",
      "✔ lubridate 1.9.4     ✔ tidyr     1.3.1\n",
      "✔ purrr     1.0.2     "
     ]
    },
    {
     "output_type": "stream",
     "name": "stderr",
     "text": [
      "── Conflicts ────────────────────────────────────────── tidyverse_conflicts() ──\n",
      "✖ dplyr::filter() masks stats::filter()\n",
      "✖ dplyr::lag()    masks stats::lag()\n",
      "ℹ Use the conflicted package (<http://conflicted.r-lib.org/>) to force all conflicts to become errors"
     ]
    }
   ],
   "source": [
    "#| label: setup\n",
    "\n",
    "library(here)"
   ],
   "id": "43d5e9fa-12d2-4add-9cea-82a6512907eb"
  },
  {
   "cell_type": "markdown",
   "metadata": {},
   "source": [
    "## Background\n",
    "\n",
    "### Why Lake Trout?\n",
    "\n",
    "We expect Lake Trout to naturally lack thiaminase, this allows us to assess the amount of noise or error inherent in our assay in the absence of thiaminase. Any degradation of thiamine observed during the assay should be attributable to methodological or instrument-related error. This is critical for ensuring that when we do detect thiaminase activity in other samples, the measurement is genuine.\n",
    "\n",
    "### Sample Handling and Analysis Runs\n",
    "\n",
    "-   All Lake Trout extracts were prepared from the same frozen NIST homogenate on **January 24, 2025**.\n",
    "-   The assay was conducted over three separate days to account for inter-day variability:\n",
    "    -   **February 7, 2025:** 6 samples (NIST A–F)\n",
    "    -   **February 10, 2025:** 6 samples (NIST G–L)\n",
    "    -   **February 11, 2025:** 4 samples (NIST M–P; remaining extract)\n",
    "-   Note that one run each on **February 6** and **February 11, 2025** was discarded due to errors in the calibration standards.\n",
    "\n",
    "## Data Analysis\n",
    "\n",
    "Read in the cleaned limit of detection data:"
   ],
   "id": "3257a6b6-3548-496e-ae4d-acf6b5ae31cd"
  },
  {
   "cell_type": "code",
   "execution_count": null,
   "metadata": {},
   "outputs": [
    {
     "output_type": "stream",
     "name": "stderr",
     "text": [
      "Rows: 16 Columns: 9\n",
      "── Column specification ────────────────────────────────────────────────────────\n",
      "Delimiter: \",\"\n",
      "chr  (1): sample_rep\n",
      "dbl  (7): avg_thiamine_t0, avg_thiamine_t1, sd_thiamine_t0, sd_thiamine_t1, ...\n",
      "date (1): analysis_date\n",
      "\n",
      "ℹ Use `spec()` to retrieve the full column specification for this data.\n",
      "ℹ Specify the column types or set `show_col_types = FALSE` to quiet this message."
     ]
    }
   ],
   "source": [
    "#| label: read-lod-data\n",
    "\n",
    "lod_data <- read_csv(here(\"data\", \"processed\", \"lod\", \"clean_lod_data.csv\"))"
   ],
   "id": "f1b9d5c0-7208-4548-8be2-4688fa0fd2b4"
  },
  {
   "cell_type": "markdown",
   "metadata": {},
   "source": [
    "For each run, the absolute difference in thiamine concentration between the paired time points was calculated for each sample. The standard deviation (SD) of these differences was then computed. To establish a conservative threshold for the assay’s noise, we multiplied the SD by 3. This value represents the margin of variation that can be attributed to method error in the absence of thiaminase."
   ],
   "id": "4eb8b07e-01b5-4f60-bf80-f80dc68a8ec6"
  },
  {
   "cell_type": "code",
   "execution_count": null,
   "metadata": {},
   "outputs": [
    {
     "output_type": "stream",
     "name": "stdout",
     "text": [
      "[1] 9.69"
     ]
    }
   ],
   "source": [
    "#| label: mean-numbers\n",
    "\n",
    "mean_lod <- mean(lod_data$avg_thiamine_t0)\n",
    "\n",
    "round(mean_lod, 2)"
   ],
   "id": "7c9907f9-7854-4696-9f8f-42cacc061771"
  }
 ],
 "nbformat": 4,
 "nbformat_minor": 5,
 "metadata": {}
}
