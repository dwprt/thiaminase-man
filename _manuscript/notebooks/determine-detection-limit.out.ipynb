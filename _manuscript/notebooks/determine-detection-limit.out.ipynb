{
 "cells": [
  {
   "cell_type": "markdown",
   "metadata": {},
   "source": [
    "# Limit of Detection\n",
    "\n",
    "Drew Porter\n",
    "\n",
    "## Introduction\n",
    "\n",
    "The purpose of this notebook is to determine a method limit of detection using Lake Trout tissue (NIST SRM 1946) for our method of directly quantifying thiaminase activity in fish tissue extracts using a plate reader.\n",
    "\n",
    "Load libraries:"
   ],
   "id": "6205c924-89d4-466e-b2a4-432c7a298b15"
  },
  {
   "cell_type": "code",
   "execution_count": null,
   "metadata": {},
   "outputs": [
    {
     "output_type": "stream",
     "name": "stderr",
     "text": [
      "here() starts at C:/Users/Drew.Porter/Working/r-projects/thiaminase_manuscript"
     ]
    },
    {
     "output_type": "stream",
     "name": "stderr",
     "text": [
      "── Attaching core tidyverse packages ──────────────────────── tidyverse 2.0.0 ──\n",
      "✔ dplyr     1.1.4     ✔ readr     2.1.5\n",
      "✔ forcats   1.0.0     ✔ stringr   1.5.1\n",
      "✔ ggplot2   3.5.1     ✔ tibble    3.2.1\n",
      "✔ lubridate 1.9.4     ✔ tidyr     1.3.1\n",
      "✔ purrr     1.0.2     "
     ]
    },
    {
     "output_type": "stream",
     "name": "stderr",
     "text": [
      "── Conflicts ────────────────────────────────────────── tidyverse_conflicts() ──\n",
      "✖ dplyr::filter() masks stats::filter()\n",
      "✖ dplyr::lag()    masks stats::lag()\n",
      "ℹ Use the conflicted package (<http://conflicted.r-lib.org/>) to force all conflicts to become errors"
     ]
    }
   ],
   "source": [
    "\n",
    "library(here)\n"
   ],
   "id": "2ca41c9b-6591-451d-b107-f4c39814122c"
  },
  {
   "cell_type": "markdown",
   "metadata": {},
   "source": [
    "## Background\n",
    "\n",
    "### Why Lake Trout?\n",
    "\n",
    "We expect Lake Trout to naturally lack thiaminase, this allows us to assess the amount of noise or error inherent in our assay in the absence of thiaminase. Any degradation of thiamine observed during the assay should be attributable to methodological or instrument-related error. This is critical for ensuring that when we do detect thiaminase activity in other samples, the measurement is genuine.\n",
    "\n",
    "### Sample Handling and Analysis Runs\n",
    "\n",
    "-   All Lake Trout extracts were prepared from the same frozen NIST homogenate on **January 24, 2025**.\n",
    "-   The assay was conducted over three separate days to account for inter-day variability:\n",
    "    -   **February 7, 2025:** 6 samples (NIST A–F)\n",
    "    -   **February 10, 2025:** 6 samples (NIST G–L)\n",
    "    -   **February 11, 2025:** 4 samples (NIST M–P; remaining extract)\n",
    "-   Note that one run each on **February 6** and **February 11, 2025** was discarded due to errors in the calibration standards.\n",
    "\n",
    "## Data Analysis\n",
    "\n",
    "### Analysis Method\n",
    "\n",
    "For each run, the absolute difference in thiamine concentration between the paired time points was calculated for each sample. The standard deviation (SD) of these differences was then computed. To establish a conservative threshold for the assay’s noise, we multiplied the SD by 3. This value represents the margin of variation that can be attributed to method error in the absence of thiaminase.\n",
    "\n",
    "Read in the cleaned limit of detection data:"
   ],
   "id": "f8610885-281d-4c0c-a787-b45af5597df1"
  },
  {
   "cell_type": "code",
   "execution_count": null,
   "metadata": {},
   "outputs": [],
   "source": [
    "\n",
    "lod_data <- read_csv(\n",
    "  here(\n",
    "    \"data\", \"processed\", \"lod\", \"clean_lod_data.csv\"\n",
    "    ),\n",
    "  col_types = \"cDddddddd\"\n",
    "  )\n",
    "\n",
    "lod_data_long <- read_csv(\n",
    "  here(\n",
    "    \"data\", \"processed\", \"lod\", \"clean_lod_data_long.csv\"\n",
    "    ), \n",
    "  col_types = \"cfDddd\") |> \n",
    "  mutate(time_point = factor(time_point, labels = c(\"0\", \"30\")))\n"
   ],
   "id": "68288f79-7a8e-48c7-a7b2-28e9b0da7d0c"
  },
  {
   "cell_type": "markdown",
   "metadata": {},
   "source": [
    "Calculate the standard deviation of the absolute differences and multiply it by three to establish a conservative threshold:"
   ],
   "id": "8a70c173-b058-41c9-9924-b99095c008b3"
  },
  {
   "cell_type": "code",
   "execution_count": null,
   "metadata": {},
   "outputs": [
    {
     "output_type": "stream",
     "name": "stdout",
     "text": [
      "[1] 0.495264"
     ]
    }
   ],
   "source": [
    "\n",
    "nist_lod_sd_times3 <- sd(lod_data$abs_thiamine_difference) * 3\n",
    "print(nist_lod_sd_times3)\n"
   ],
   "id": "2f8970a7-e1a4-41eb-9a6d-403b7c3e92bb"
  },
  {
   "cell_type": "markdown",
   "metadata": {},
   "source": [
    "Defining fish extract concentration ratios:"
   ],
   "id": "1342bb48-ca37-4513-a5d9-d9e249f54b0b"
  },
  {
   "cell_type": "code",
   "execution_count": null,
   "metadata": {},
   "outputs": [],
   "source": [
    "\n",
    "fish_g <- 1\n",
    "buffer_mL <- 2.5\n",
    "fish_g_per_buffer_mL = fish_g / buffer_mL\n",
    "extract_vol_in_sample_mL <- 25 / 1000\n",
    "fish_g_per_sample <- fish_g_per_buffer_mL * extract_vol_in_sample_mL\n"
   ],
   "id": "52f0f30a-3d68-4684-84cc-1b0aa8f6ba5f"
  },
  {
   "cell_type": "markdown",
   "metadata": {},
   "source": [
    "To make our fish extract we always mix 1 g of homogenized fish tissue with 2.5 mL phosphate buffer. So, we know there is 0.4 g of fish tissue per mL of buffer in the extract. We use 25 $\\mu$L of fish extract in our analyses, so we know there is 0.01 g of fish tissue in each analysis sample.\n",
    "\n",
    "To convert the calculated absolute difference standard deviation$\\times 3$ to a thiaminase activity rate we simply divide the value by the grams of fish in each sample, and by the minutes of time the assay ran for to get thiaminase activity in nmol of thiamine degraded per gram of fish tissue per minute:"
   ],
   "id": "32223865-4a56-4ccf-9a9a-83b349140822"
  },
  {
   "cell_type": "code",
   "execution_count": null,
   "metadata": {},
   "outputs": [
    {
     "output_type": "stream",
     "name": "stdout",
     "text": [
      "[1] 4.95264"
     ]
    },
    {
     "output_type": "stream",
     "name": "stdout",
     "text": [
      "[1] 1.65088"
     ]
    }
   ],
   "source": [
    "\n",
    "ten_minute_rate_lod <- nist_lod_sd_times3 / fish_g_per_sample / 10\n",
    "print(ten_minute_rate_lod)\n"
   ],
   "id": "7cd95f28-f982-4d54-9c03-d880d42838d8"
  },
  {
   "cell_type": "markdown",
   "metadata": {},
   "source": [
    "Saving the LOD values for the manuscript:"
   ],
   "id": "b0d4d07d-1ba2-4bde-a229-d9c5879d0b8d"
  },
  {
   "cell_type": "code",
   "execution_count": null,
   "metadata": {},
   "outputs": [],
   "source": [
    "\n",
    "write_rds(\n",
    "  ten_minute_rate_lod,\n",
    "  here(\"data\", \"processed\", \"lod\", \"ten_min_lod.rds\")\n",
    ")\n",
    "\n",
    "write_rds(\n",
    "  thirty_minute_rate_lod,\n",
    "  here(\"data\", \"processed\", \"lod\", \"thirty_min_lod.rds\")\n",
    ")\n"
   ],
   "id": "5666002d-9a9f-4acd-8689-aedfc5786ad1"
  },
  {
   "cell_type": "markdown",
   "metadata": {},
   "source": [
    "### Data Visualization\n",
    "\n",
    "Here I plot all the NIST LOD data so we can visualize the difference between the readings at each time point:"
   ],
   "id": "9fe54b4b-9e02-44e0-9f9a-3f453d022bf8"
  },
  {
   "cell_type": "code",
   "execution_count": null,
   "metadata": {},
   "outputs": [
    {
     "output_type": "display_data",
     "metadata": {},
     "data": {
      "image/png": "[encoded data removed]"
     }
    }
   ],
   "source": [
    "\n",
    "lod_plot <- lod_data_long |> \n",
    "  ggplot(aes(x = time_point, y = avg_thiamine)) +\n",
    "  geom_boxplot() +\n",
    "  geom_jitter(aes(shape = factor(analysis_date)),\n",
    "              width = jitter_width, height = jitter_height, size = point_size) +\n",
    "  #stat_compare_means(method = \"t.test\",\n",
    "                    # paired = TRUE,\n",
    "                    # label.x = 0.75,\n",
    "                     #label.y = 10.45,\n",
    "                   #  aes(label = paste0(\"Paired t-test, p = \",\n",
    "                                #    after_stat(p.format)))) +\n",
    "  scale_y_continuous(limits = c(0, 10.5), breaks = seq(0, 10, 2)) +\n",
    "  labs(x = \"Nominal Time (min)\",\n",
    "       y = \"[Thiamine nmol]\") +\n",
    "  guides(shape = \"none\") +\n",
    "  theme_classic() +\n",
    "  theme(text = element_text(size = text_size))\n",
    "\n",
    "lod_plot\n"
   ],
   "id": "cell-fig-lod-boxplot"
  },
  {
   "cell_type": "markdown",
   "metadata": {},
   "source": [
    "### Statistical Analysis\n",
    "\n",
    "The goal here is to perform a paired t-test to determine if the 30 min incubation period caused a change in thiamine concentration in the NIST samples. From the plot, I expect there to be no significant difference.\n",
    "\n",
    "First I need to make sure we are meeting the assumptions of a paired t-test:\n",
    "\n",
    "-   The data are continuous (yes)\n",
    "\n",
    "-   The data values are paired measurements (yes)\n",
    "\n",
    "-   The pairs are independent of each other (yes)\n",
    "\n",
    "-   The differences between paired observations are normally distributed (check below)\n",
    "\n",
    "    ``` r\n",
    "\n",
    "    # Calculate the differences between paired observations\n",
    "    differences <- lod_data$avg_thiamine_t1 - lod_data$avg_thiamine_t0\n",
    "\n",
    "    # Perform a Shapiro-Wilk normality test on the differences\n",
    "    shapiro_test <- shapiro.test(differences)\n",
    "    print(shapiro_test)\n",
    "    ```\n",
    "\n",
    "\n",
    "            Shapiro-Wilk normality test\n",
    "\n",
    "        data:  differences\n",
    "        W = 0.97789, p-value = 0.9446\n",
    "\n",
    "The high p-value of 0.945 indicates that the differences are normally distributed and I can proceed with the paired t-test:"
   ],
   "id": "3754ac19-58a5-4945-8c70-a8490d167112"
  },
  {
   "cell_type": "code",
   "execution_count": null,
   "metadata": {},
   "outputs": [
    {
     "output_type": "stream",
     "name": "stdout",
     "text": [
      "\n",
      "    Paired t-test\n",
      "\n",
      "data:  lod_data$avg_thiamine_t0 and lod_data$avg_thiamine_t1\n",
      "t = 0.95099, df = 15, p-value = 0.3567\n",
      "alternative hypothesis: true mean difference is not equal to 0\n",
      "95 percent confidence interval:\n",
      " -0.07957522  0.20778910\n",
      "sample estimates:\n",
      "mean difference \n",
      "     0.06410694 "
     ]
    }
   ],
   "source": [
    "\n",
    "t_test_result <- t.test(lod_data$avg_thiamine_t0, \n",
    "                        lod_data$avg_thiamine_t1,\n",
    "                        paired = TRUE)\n",
    "\n",
    "print(t_test_result)\n"
   ],
   "id": "5e8540d2-bb06-49d6-8f19-5402563d4e17"
  },
  {
   "cell_type": "markdown",
   "metadata": {},
   "source": [
    "Since the p-value (0.357) is much higher than 0.05 and the confidence interval includes zero, we conclude that there is no statistically significant difference between the average thiamine measurements at time 0 and time 1.\n",
    "\n",
    "Saving t-test p-value for reference in manuscript:"
   ],
   "id": "df1ab82d-dd63-4e91-bd60-2a4b816436a0"
  },
  {
   "cell_type": "code",
   "execution_count": null,
   "metadata": {},
   "outputs": [],
   "source": [
    "lod_paired_p_val <- t_test_result$p.value\n",
    "\n",
    "write_rds(\n",
    "  lod_paired_p_val,\n",
    "  file = here(\"data\", \"processed\", \"lod\", \"lod_paired_p_val.rds\")\n",
    ")\n"
   ],
   "id": "e12fd0b6-dd5e-4e33-9277-6a837db6dd27"
  }
 ],
 "nbformat": 4,
 "nbformat_minor": 5,
 "metadata": {}
}
